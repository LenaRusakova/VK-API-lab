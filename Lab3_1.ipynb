{
 "cells": [
  {
   "cell_type": "markdown",
   "id": "e5321cb7",
   "metadata": {},
   "source": [
    "<h1> Сохранение фото из группы в ВК </h1>"
   ]
  },
  {
   "cell_type": "markdown",
   "id": "9f76e60a",
   "metadata": {},
   "source": [
    "1. Используя API VK (https://vk.com/dev), загрузить все фотографии (нормального размера) из всех альбомов страницы НИУ ВШЭ-Пермь. За основу взять скрипт из присоединенного файла. (4 балла)"
   ]
  },
  {
   "cell_type": "code",
   "execution_count": 39,
   "id": "5e99e5f6",
   "metadata": {},
   "outputs": [],
   "source": [
    "#!pip3 install vk"
   ]
  },
  {
   "cell_type": "code",
   "execution_count": 2,
   "id": "a661acd2",
   "metadata": {},
   "outputs": [],
   "source": [
    "token = 'your token'"
   ]
  },
  {
   "cell_type": "code",
   "execution_count": 41,
   "id": "a6532c56",
   "metadata": {},
   "outputs": [
    {
     "name": "stdout",
     "output_type": "stream",
     "text": [
      "Загружаю фото № 1 из 27. Прогресс: 0 %\n",
      "Загружаю фото № 2 из 27. Прогресс: 3.7 %\n",
      "Загружаю фото № 3 из 27. Прогресс: 7.41 %\n",
      "Загружаю фото № 4 из 27. Прогресс: 11.11 %\n",
      "Загружаю фото № 5 из 27. Прогресс: 14.81 %\n",
      "Загружаю фото № 6 из 27. Прогресс: 18.52 %\n",
      "Загружаю фото № 7 из 27. Прогресс: 22.22 %\n",
      "Загружаю фото № 8 из 27. Прогресс: 25.93 %\n",
      "Загружаю фото № 9 из 27. Прогресс: 29.63 %\n",
      "Загружаю фото № 10 из 27. Прогресс: 33.33 %\n",
      "Загружаю фото № 11 из 27. Прогресс: 37.04 %\n",
      "Загружаю фото № 12 из 27. Прогресс: 40.74 %\n",
      "Загружаю фото № 13 из 27. Прогресс: 44.44 %\n",
      "Загружаю фото № 14 из 27. Прогресс: 48.15 %\n",
      "Загружаю фото № 15 из 27. Прогресс: 51.85 %\n",
      "Загружаю фото № 16 из 27. Прогресс: 55.56 %\n",
      "Загружаю фото № 17 из 27. Прогресс: 59.26 %\n",
      "Загружаю фото № 18 из 27. Прогресс: 62.96 %\n",
      "Загружаю фото № 19 из 27. Прогресс: 66.67 %\n",
      "Загружаю фото № 20 из 27. Прогресс: 70.37 %\n",
      "Загружаю фото № 21 из 27. Прогресс: 74.07 %\n",
      "Загружаю фото № 22 из 27. Прогресс: 77.78 %\n",
      "Загружаю фото № 23 из 27. Прогресс: 81.48 %\n",
      "Загружаю фото № 24 из 27. Прогресс: 85.19 %\n",
      "Загружаю фото № 25 из 27. Прогресс: 88.89 %\n",
      "Загружаю фото № 26 из 27. Прогресс: 92.59 %\n",
      "Загружаю фото № 27 из 27. Прогресс: 96.3 %\n",
      "\n",
      "В очереди было 27 файлов. Из них удачно загружено 27 файлов, 0 не удалось загрузить. Затрачено времени: 8.1 сек.\n",
      "Загружаю фото № 1 из 8. Прогресс: 0 %\n",
      "Загружаю фото № 2 из 8. Прогресс: 12.5 %\n",
      "Загружаю фото № 3 из 8. Прогресс: 25.0 %\n",
      "Загружаю фото № 4 из 8. Прогресс: 37.5 %\n",
      "Загружаю фото № 5 из 8. Прогресс: 50.0 %\n",
      "Загружаю фото № 6 из 8. Прогресс: 62.5 %\n",
      "Загружаю фото № 7 из 8. Прогресс: 75.0 %\n",
      "Загружаю фото № 8 из 8. Прогресс: 87.5 %\n",
      "\n",
      "В очереди было 8 файлов. Из них удачно загружено 8 файлов, 0 не удалось загрузить. Затрачено времени: 2.3 сек.\n",
      "Загружаю фото № 1 из 10. Прогресс: 0 %\n",
      "Загружаю фото № 2 из 10. Прогресс: 10.0 %\n",
      "Загружаю фото № 3 из 10. Прогресс: 20.0 %\n",
      "Загружаю фото № 4 из 10. Прогресс: 30.0 %\n",
      "Загружаю фото № 5 из 10. Прогресс: 40.0 %\n",
      "Загружаю фото № 6 из 10. Прогресс: 50.0 %\n",
      "Загружаю фото № 7 из 10. Прогресс: 60.0 %\n",
      "Загружаю фото № 8 из 10. Прогресс: 70.0 %\n",
      "Загружаю фото № 9 из 10. Прогресс: 80.0 %\n",
      "Загружаю фото № 10 из 10. Прогресс: 90.0 %\n",
      "\n",
      "В очереди было 10 файлов. Из них удачно загружено 10 файлов, 0 не удалось загрузить. Затрачено времени: 2.8 сек.\n"
     ]
    }
   ],
   "source": [
    "# Импортируем нужные модули\n",
    "import requests\n",
    "import vk, os, time, math\n",
    "\n",
    "# Авторизация\n",
    "\n",
    "session = vk.Session(access_token=token)\n",
    "vkapi = vk.API(session, v='5.81')\n",
    "\n",
    "url = 'https://vk.com/album-41485194_238722100'#\"https://vk.com/album-41485194_238722100\"\n",
    "# Разбираем ссылку\n",
    "album_id = url.split('/')[-1].split('_')[1]\n",
    "owner_id = url.split('/')[-1].split('_')[0].replace('album', '')\n",
    "\n",
    "albums = vkapi.photos.getAlbums(owner_id=owner_id)\n",
    "\n",
    "for i in range (0, albums['count']):\n",
    "    album_id = albums[\"items\"][i][\"id\"]\n",
    "    album = vkapi.photos.getAlbums(owner_id=owner_id, album_ids=album_id)\n",
    "    photos_count = album[\"items\"][0][\"size\"]\n",
    "    title = album[\"items\"][0][\"title\"]\n",
    "    \n",
    "    counter = 0 # текущий счетчик\n",
    "    prog = 0 # процент загруженных\n",
    "    breaked = 0 # не загружено из-за ошибки\n",
    "    time_now = time.time() # время старта\n",
    "    \n",
    "    #&nbsp;Создадим каталоги\n",
    "    if not os.path.exists('saved'):\n",
    "        os.mkdir('saved')\n",
    "    photo_folder = 'saved/album{0}_{1}_{2}'.format(owner_id, album_id, title)\n",
    "    if not os.path.exists(photo_folder):\n",
    "        os.mkdir(photo_folder)\n",
    "    \n",
    "    for j in range(math.ceil(photos_count / 1000)): \n",
    "        photos = vkapi.photos.get(owner_id=owner_id, album_id=album_id, count=1000, offset=j*1000, photo_sizes=1) \n",
    "        \n",
    "        #Подбор размера с наибольшей height\n",
    "        for photo in photos[\"items\"]:\n",
    "            max_height = 0\n",
    "            max_height_index = 0\n",
    "            for i in range (0, len(photo[\"sizes\"])):\n",
    "                if photo[\"sizes\"][i][\"height\"] > max_height:\n",
    "                    max_height = photo[\"sizes\"][i][\"height\"]\n",
    "                    max_height_index = i\n",
    "                    \n",
    "            counter += 1\n",
    "            url = photo[\"sizes\"][max_height_index][\"url\"] # Получаем адрес изображения\n",
    "            print('Загружаю фото № {} из {}. Прогресс: {} %'.format(counter, photos_count, prog))\n",
    "            prog = round(100/photos_count*counter,2)\n",
    "            try:\n",
    "                with open(photo_folder + \"/\" + os.path.split(url)[1]+'.jpg', 'wb') as f:\n",
    "                    f.write(requests.get(url).content)\n",
    "\n",
    "            except Exception:\n",
    "                print('Произошла ошибка, файл пропущен.')\n",
    "                breaked += 1\n",
    "                continue\n",
    "    \n",
    "    time_for_dw = time.time() - time_now\n",
    "    print(\"\\nВ очереди было {} файлов. Из них удачно загружено {} файлов, {} не удалось загрузить. Затрачено времени: {} сек.\". format(photos_count, photos_count-breaked, breaked, round(time_for_dw,1)))"
   ]
  },
  {
   "cell_type": "code",
   "execution_count": null,
   "id": "fe8ed18f",
   "metadata": {},
   "outputs": [],
   "source": []
  }
 ],
 "metadata": {
  "kernelspec": {
   "display_name": "Python 3 (ipykernel)",
   "language": "python",
   "name": "python3"
  },
  "language_info": {
   "codemirror_mode": {
    "name": "ipython",
    "version": 3
   },
   "file_extension": ".py",
   "mimetype": "text/x-python",
   "name": "python",
   "nbconvert_exporter": "python",
   "pygments_lexer": "ipython3",
   "version": "3.9.7"
  }
 },
 "nbformat": 4,
 "nbformat_minor": 5
}
